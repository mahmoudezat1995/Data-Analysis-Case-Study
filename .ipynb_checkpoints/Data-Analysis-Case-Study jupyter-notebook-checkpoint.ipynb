{
 "cells": [
  {
   "cell_type": "markdown",
   "metadata": {},
   "source": [
    "**Google Data Analytics Capstone Project Report**\n",
    "### Case Study: Cyclist Bike Share"
   ]
  },
  {
   "cell_type": "markdown",
   "metadata": {},
   "source": [
    "IN our project we will Follow the ask, prepare, process, analyze, share and act data analysis process\n"
   ]
  },
  {
   "cell_type": "markdown",
   "metadata": {},
   "source": [
    "## 1. Ask phase"
   ]
  },
  {
   "cell_type": "markdown",
   "metadata": {},
   "source": [
    "What problem are we trying to solve and how will it drive business decisions?"
   ]
  },
  {
   "cell_type": "markdown",
   "metadata": {},
   "source": [
    "#### Key Stakeholders:\n",
    "- Moreno, Director of Marketing and your boss, is certain the key to the company's future is turning casual riders into members.\n",
    "\n",
    "- The executive team who will be deciding whether to move forward with the marketing program.  All we know is that they are described as 'detail-oriented'"
   ]
  },
  {
   "cell_type": "markdown",
   "metadata": {},
   "source": [
    "**Business task**\n",
    "\n",
    "Identify key behavioural differences between members and casual riders"
   ]
  },
  {
   "cell_type": "markdown",
   "metadata": {},
   "source": [
    "# 2.Prepare\n",
    "\n",
    "Locate, Organize and Verify the Data"
   ]
  },
  {
   "cell_type": "markdown",
   "metadata": {},
   "source": [
    "## how we get our data and license\n",
    "We are provided zip files from an Amazon S3 Cloud storage including monthly and quarterly data since the company started.\n",
    "\n",
    "We download the last 12 months (April 2020 - April 2021) which include csv files with data\n",
    "\n",
    "### Data Licensing:\n",
    "\n",
    "Can be found [here](https://www.divvybikes.com/data-license-agreement)"
   ]
  },
  {
   "cell_type": "markdown",
   "metadata": {},
   "source": [
    "# merging data files\n",
    "*as our data is splited in 14 files we will merge it in one .csv file*"
   ]
  },
  {
   "cell_type": "code",
   "execution_count": 3,
   "metadata": {},
   "outputs": [
    {
     "data": {
      "text/html": [
       "<div>\n",
       "<style scoped>\n",
       "    .dataframe tbody tr th:only-of-type {\n",
       "        vertical-align: middle;\n",
       "    }\n",
       "\n",
       "    .dataframe tbody tr th {\n",
       "        vertical-align: top;\n",
       "    }\n",
       "\n",
       "    .dataframe thead th {\n",
       "        text-align: right;\n",
       "    }\n",
       "</style>\n",
       "<table border=\"1\" class=\"dataframe\">\n",
       "  <thead>\n",
       "    <tr style=\"text-align: right;\">\n",
       "      <th></th>\n",
       "      <th>ride_id</th>\n",
       "      <th>rideable_type</th>\n",
       "      <th>started_at</th>\n",
       "      <th>ended_at</th>\n",
       "      <th>start_station_name</th>\n",
       "      <th>start_station_id</th>\n",
       "      <th>end_station_name</th>\n",
       "      <th>end_station_id</th>\n",
       "      <th>start_lat</th>\n",
       "      <th>start_lng</th>\n",
       "      <th>end_lat</th>\n",
       "      <th>end_lng</th>\n",
       "      <th>member_casual</th>\n",
       "    </tr>\n",
       "  </thead>\n",
       "  <tbody>\n",
       "    <tr>\n",
       "      <th>0</th>\n",
       "      <td>A847FADBBC638E45</td>\n",
       "      <td>docked_bike</td>\n",
       "      <td>2020-04-26 17:45:14</td>\n",
       "      <td>2020-04-26 18:12:03</td>\n",
       "      <td>Eckhart Park</td>\n",
       "      <td>86</td>\n",
       "      <td>Lincoln Ave &amp; Diversey Pkwy</td>\n",
       "      <td>152</td>\n",
       "      <td>41.8964</td>\n",
       "      <td>-87.6610</td>\n",
       "      <td>41.9322</td>\n",
       "      <td>-87.6586</td>\n",
       "      <td>member</td>\n",
       "    </tr>\n",
       "    <tr>\n",
       "      <th>1</th>\n",
       "      <td>5405B80E996FF60D</td>\n",
       "      <td>docked_bike</td>\n",
       "      <td>2020-04-17 17:08:54</td>\n",
       "      <td>2020-04-17 17:17:03</td>\n",
       "      <td>Drake Ave &amp; Fullerton Ave</td>\n",
       "      <td>503</td>\n",
       "      <td>Kosciuszko Park</td>\n",
       "      <td>499</td>\n",
       "      <td>41.9244</td>\n",
       "      <td>-87.7154</td>\n",
       "      <td>41.9306</td>\n",
       "      <td>-87.7238</td>\n",
       "      <td>member</td>\n",
       "    </tr>\n",
       "    <tr>\n",
       "      <th>2</th>\n",
       "      <td>5DD24A79A4E006F4</td>\n",
       "      <td>docked_bike</td>\n",
       "      <td>2020-04-01 17:54:13</td>\n",
       "      <td>2020-04-01 18:08:36</td>\n",
       "      <td>McClurg Ct &amp; Erie St</td>\n",
       "      <td>142</td>\n",
       "      <td>Indiana Ave &amp; Roosevelt Rd</td>\n",
       "      <td>255</td>\n",
       "      <td>41.8945</td>\n",
       "      <td>-87.6179</td>\n",
       "      <td>41.8679</td>\n",
       "      <td>-87.6230</td>\n",
       "      <td>member</td>\n",
       "    </tr>\n",
       "    <tr>\n",
       "      <th>3</th>\n",
       "      <td>2A59BBDF5CDBA725</td>\n",
       "      <td>docked_bike</td>\n",
       "      <td>2020-04-07 12:50:19</td>\n",
       "      <td>2020-04-07 13:02:31</td>\n",
       "      <td>California Ave &amp; Division St</td>\n",
       "      <td>216</td>\n",
       "      <td>Wood St &amp; Augusta Blvd</td>\n",
       "      <td>657</td>\n",
       "      <td>41.9030</td>\n",
       "      <td>-87.6975</td>\n",
       "      <td>41.8992</td>\n",
       "      <td>-87.6722</td>\n",
       "      <td>member</td>\n",
       "    </tr>\n",
       "    <tr>\n",
       "      <th>4</th>\n",
       "      <td>27AD306C119C6158</td>\n",
       "      <td>docked_bike</td>\n",
       "      <td>2020-04-18 10:22:59</td>\n",
       "      <td>2020-04-18 11:15:54</td>\n",
       "      <td>Rush St &amp; Hubbard St</td>\n",
       "      <td>125</td>\n",
       "      <td>Sheridan Rd &amp; Lawrence Ave</td>\n",
       "      <td>323</td>\n",
       "      <td>41.8902</td>\n",
       "      <td>-87.6262</td>\n",
       "      <td>41.9695</td>\n",
       "      <td>-87.6547</td>\n",
       "      <td>casual</td>\n",
       "    </tr>\n",
       "  </tbody>\n",
       "</table>\n",
       "</div>"
      ],
      "text/plain": [
       "            ride_id rideable_type           started_at             ended_at  \\\n",
       "0  A847FADBBC638E45   docked_bike  2020-04-26 17:45:14  2020-04-26 18:12:03   \n",
       "1  5405B80E996FF60D   docked_bike  2020-04-17 17:08:54  2020-04-17 17:17:03   \n",
       "2  5DD24A79A4E006F4   docked_bike  2020-04-01 17:54:13  2020-04-01 18:08:36   \n",
       "3  2A59BBDF5CDBA725   docked_bike  2020-04-07 12:50:19  2020-04-07 13:02:31   \n",
       "4  27AD306C119C6158   docked_bike  2020-04-18 10:22:59  2020-04-18 11:15:54   \n",
       "\n",
       "             start_station_name start_station_id             end_station_name  \\\n",
       "0                  Eckhart Park               86  Lincoln Ave & Diversey Pkwy   \n",
       "1     Drake Ave & Fullerton Ave              503              Kosciuszko Park   \n",
       "2          McClurg Ct & Erie St              142   Indiana Ave & Roosevelt Rd   \n",
       "3  California Ave & Division St              216       Wood St & Augusta Blvd   \n",
       "4          Rush St & Hubbard St              125   Sheridan Rd & Lawrence Ave   \n",
       "\n",
       "  end_station_id  start_lat  start_lng  end_lat  end_lng member_casual  \n",
       "0            152    41.8964   -87.6610  41.9322 -87.6586        member  \n",
       "1            499    41.9244   -87.7154  41.9306 -87.7238        member  \n",
       "2            255    41.8945   -87.6179  41.8679 -87.6230        member  \n",
       "3            657    41.9030   -87.6975  41.8992 -87.6722        member  \n",
       "4            323    41.8902   -87.6262  41.9695 -87.6547        casual  "
      ]
     },
     "execution_count": 3,
     "metadata": {},
     "output_type": "execute_result"
    }
   ],
   "source": [
    "import pandas as pd\n",
    "import glob\n",
    "import os\n",
    "os.chdir(\"C:\\\\Users\\moham\\\\Desktop\\\\Cyclist Bike Share\") \n",
    "# merging the files\n",
    "extension = 'csv'\n",
    "all_filenames = [i for i in glob.glob('*.{}'.format(extension))]\n",
    "df = pd.concat(map(pd.read_csv, all_filenames), ignore_index=False)\n",
    "df.head()\n",
    "  "
   ]
  },
  {
   "cell_type": "markdown",
   "metadata": {},
   "source": [
    "We'll look through our data for wrong data types ,typos ,  outliers , nulls and duplicates"
   ]
  },
  {
   "cell_type": "code",
   "execution_count": 4,
   "metadata": {},
   "outputs": [
    {
     "data": {
      "text/plain": [
       "(4887932, 13)"
      ]
     },
     "execution_count": 4,
     "metadata": {},
     "output_type": "execute_result"
    }
   ],
   "source": [
    "#get number of rows and columns\n",
    "df.shape"
   ]
  },
  {
   "cell_type": "code",
   "execution_count": 5,
   "metadata": {},
   "outputs": [
    {
     "data": {
      "text/plain": [
       "ride_id                object\n",
       "rideable_type          object\n",
       "started_at             object\n",
       "ended_at               object\n",
       "start_station_name     object\n",
       "start_station_id       object\n",
       "end_station_name       object\n",
       "end_station_id         object\n",
       "start_lat             float64\n",
       "start_lng             float64\n",
       "end_lat               float64\n",
       "end_lng               float64\n",
       "member_casual          object\n",
       "dtype: object"
      ]
     },
     "execution_count": 5,
     "metadata": {},
     "output_type": "execute_result"
    }
   ],
   "source": [
    "#get column names and types\n",
    "df.dtypes"
   ]
  },
  {
   "cell_type": "markdown",
   "metadata": {},
   "source": [
    "here started_at and ended_at column should be datetime not object"
   ]
  },
  {
   "cell_type": "code",
   "execution_count": 6,
   "metadata": {},
   "outputs": [
    {
     "data": {
      "text/plain": [
       "ride_id                    0\n",
       "rideable_type              0\n",
       "started_at                 0\n",
       "ended_at                   0\n",
       "start_station_name    282068\n",
       "start_station_id      282694\n",
       "end_station_name      315676\n",
       "end_station_id        316137\n",
       "start_lat                  0\n",
       "start_lng                  0\n",
       "end_lat                 5853\n",
       "end_lng                 5853\n",
       "member_casual              0\n",
       "dtype: int64"
      ]
     },
     "execution_count": 6,
     "metadata": {},
     "output_type": "execute_result"
    }
   ],
   "source": [
    "#check for null values\n",
    "df.isnull().sum()"
   ]
  },
  {
   "cell_type": "code",
   "execution_count": 7,
   "metadata": {},
   "outputs": [
    {
     "data": {
      "text/html": [
       "<div>\n",
       "<style scoped>\n",
       "    .dataframe tbody tr th:only-of-type {\n",
       "        vertical-align: middle;\n",
       "    }\n",
       "\n",
       "    .dataframe tbody tr th {\n",
       "        vertical-align: top;\n",
       "    }\n",
       "\n",
       "    .dataframe thead th {\n",
       "        text-align: right;\n",
       "    }\n",
       "</style>\n",
       "<table border=\"1\" class=\"dataframe\">\n",
       "  <thead>\n",
       "    <tr style=\"text-align: right;\">\n",
       "      <th></th>\n",
       "      <th>ride_id</th>\n",
       "      <th>rideable_type</th>\n",
       "      <th>started_at</th>\n",
       "      <th>ended_at</th>\n",
       "      <th>start_station_name</th>\n",
       "      <th>start_station_id</th>\n",
       "      <th>end_station_name</th>\n",
       "      <th>end_station_id</th>\n",
       "      <th>start_lat</th>\n",
       "      <th>start_lng</th>\n",
       "      <th>end_lat</th>\n",
       "      <th>end_lng</th>\n",
       "      <th>member_casual</th>\n",
       "    </tr>\n",
       "  </thead>\n",
       "  <tbody>\n",
       "  </tbody>\n",
       "</table>\n",
       "</div>"
      ],
      "text/plain": [
       "Empty DataFrame\n",
       "Columns: [ride_id, rideable_type, started_at, ended_at, start_station_name, start_station_id, end_station_name, end_station_id, start_lat, start_lng, end_lat, end_lng, member_casual]\n",
       "Index: []"
      ]
     },
     "execution_count": 7,
     "metadata": {},
     "output_type": "execute_result"
    }
   ],
   "source": [
    "#check for duplicated\n",
    "df[df.duplicated()]"
   ]
  },
  {
   "cell_type": "markdown",
   "metadata": {},
   "source": [
    "there is no duplicted rows"
   ]
  },
  {
   "cell_type": "code",
   "execution_count": 8,
   "metadata": {},
   "outputs": [
    {
     "name": "stdout",
     "output_type": "stream",
     "text": [
      "4887723 1362 1362\n"
     ]
    }
   ],
   "source": [
    "#check uniqueness of the ids\n",
    "print(len(df.ride_id.unique()),len(df.start_station_id.unique()),len(df.end_station_id.unique()))"
   ]
  },
  {
   "cell_type": "markdown",
   "metadata": {},
   "source": [
    "the ids appear unique so we will drop it "
   ]
  },
  {
   "cell_type": "code",
   "execution_count": 9,
   "metadata": {},
   "outputs": [],
   "source": [
    "#drop ids columns\n",
    "df = df.drop(['ride_id', 'start_station_id', 'end_station_id'], axis = 1)"
   ]
  },
  {
   "cell_type": "markdown",
   "metadata": {},
   "source": [
    "# columns need to be rename"
   ]
  },
  {
   "cell_type": "code",
   "execution_count": 10,
   "metadata": {},
   "outputs": [],
   "source": [
    "df = df.rename(columns = {'rideable_type' : 'Bike_Type', 'started_at' : 'Start_Time', 'ended_at' : 'End_Time', 'start_station_name' : 'Starting_Station', 'end_station_name' : 'Ending_Station', 'member_casual' : 'Rider_Status', 'start_lat' : 'Starting_Latitude', 'start_lng' : 'Starting_Longitude','end_lat' : 'Ending_Latitude', 'end_lng' : 'Ending_Longitude'})"
   ]
  },
  {
   "cell_type": "code",
   "execution_count": 11,
   "metadata": {},
   "outputs": [
    {
     "data": {
      "text/html": [
       "<div>\n",
       "<style scoped>\n",
       "    .dataframe tbody tr th:only-of-type {\n",
       "        vertical-align: middle;\n",
       "    }\n",
       "\n",
       "    .dataframe tbody tr th {\n",
       "        vertical-align: top;\n",
       "    }\n",
       "\n",
       "    .dataframe thead th {\n",
       "        text-align: right;\n",
       "    }\n",
       "</style>\n",
       "<table border=\"1\" class=\"dataframe\">\n",
       "  <thead>\n",
       "    <tr style=\"text-align: right;\">\n",
       "      <th></th>\n",
       "      <th>Bike_Type</th>\n",
       "      <th>Start_Time</th>\n",
       "      <th>End_Time</th>\n",
       "      <th>Starting_Station</th>\n",
       "      <th>Ending_Station</th>\n",
       "      <th>Starting_Latitude</th>\n",
       "      <th>Starting_Longitude</th>\n",
       "      <th>Ending_Latitude</th>\n",
       "      <th>Ending_Longitude</th>\n",
       "      <th>Rider_Status</th>\n",
       "    </tr>\n",
       "  </thead>\n",
       "  <tbody>\n",
       "    <tr>\n",
       "      <th>0</th>\n",
       "      <td>docked_bike</td>\n",
       "      <td>2020-04-26 17:45:14</td>\n",
       "      <td>2020-04-26 18:12:03</td>\n",
       "      <td>Eckhart Park</td>\n",
       "      <td>Lincoln Ave &amp; Diversey Pkwy</td>\n",
       "      <td>41.8964</td>\n",
       "      <td>-87.6610</td>\n",
       "      <td>41.9322</td>\n",
       "      <td>-87.6586</td>\n",
       "      <td>member</td>\n",
       "    </tr>\n",
       "    <tr>\n",
       "      <th>1</th>\n",
       "      <td>docked_bike</td>\n",
       "      <td>2020-04-17 17:08:54</td>\n",
       "      <td>2020-04-17 17:17:03</td>\n",
       "      <td>Drake Ave &amp; Fullerton Ave</td>\n",
       "      <td>Kosciuszko Park</td>\n",
       "      <td>41.9244</td>\n",
       "      <td>-87.7154</td>\n",
       "      <td>41.9306</td>\n",
       "      <td>-87.7238</td>\n",
       "      <td>member</td>\n",
       "    </tr>\n",
       "    <tr>\n",
       "      <th>2</th>\n",
       "      <td>docked_bike</td>\n",
       "      <td>2020-04-01 17:54:13</td>\n",
       "      <td>2020-04-01 18:08:36</td>\n",
       "      <td>McClurg Ct &amp; Erie St</td>\n",
       "      <td>Indiana Ave &amp; Roosevelt Rd</td>\n",
       "      <td>41.8945</td>\n",
       "      <td>-87.6179</td>\n",
       "      <td>41.8679</td>\n",
       "      <td>-87.6230</td>\n",
       "      <td>member</td>\n",
       "    </tr>\n",
       "    <tr>\n",
       "      <th>3</th>\n",
       "      <td>docked_bike</td>\n",
       "      <td>2020-04-07 12:50:19</td>\n",
       "      <td>2020-04-07 13:02:31</td>\n",
       "      <td>California Ave &amp; Division St</td>\n",
       "      <td>Wood St &amp; Augusta Blvd</td>\n",
       "      <td>41.9030</td>\n",
       "      <td>-87.6975</td>\n",
       "      <td>41.8992</td>\n",
       "      <td>-87.6722</td>\n",
       "      <td>member</td>\n",
       "    </tr>\n",
       "    <tr>\n",
       "      <th>4</th>\n",
       "      <td>docked_bike</td>\n",
       "      <td>2020-04-18 10:22:59</td>\n",
       "      <td>2020-04-18 11:15:54</td>\n",
       "      <td>Rush St &amp; Hubbard St</td>\n",
       "      <td>Sheridan Rd &amp; Lawrence Ave</td>\n",
       "      <td>41.8902</td>\n",
       "      <td>-87.6262</td>\n",
       "      <td>41.9695</td>\n",
       "      <td>-87.6547</td>\n",
       "      <td>casual</td>\n",
       "    </tr>\n",
       "  </tbody>\n",
       "</table>\n",
       "</div>"
      ],
      "text/plain": [
       "     Bike_Type           Start_Time             End_Time  \\\n",
       "0  docked_bike  2020-04-26 17:45:14  2020-04-26 18:12:03   \n",
       "1  docked_bike  2020-04-17 17:08:54  2020-04-17 17:17:03   \n",
       "2  docked_bike  2020-04-01 17:54:13  2020-04-01 18:08:36   \n",
       "3  docked_bike  2020-04-07 12:50:19  2020-04-07 13:02:31   \n",
       "4  docked_bike  2020-04-18 10:22:59  2020-04-18 11:15:54   \n",
       "\n",
       "               Starting_Station               Ending_Station  \\\n",
       "0                  Eckhart Park  Lincoln Ave & Diversey Pkwy   \n",
       "1     Drake Ave & Fullerton Ave              Kosciuszko Park   \n",
       "2          McClurg Ct & Erie St   Indiana Ave & Roosevelt Rd   \n",
       "3  California Ave & Division St       Wood St & Augusta Blvd   \n",
       "4          Rush St & Hubbard St   Sheridan Rd & Lawrence Ave   \n",
       "\n",
       "   Starting_Latitude  Starting_Longitude  Ending_Latitude  Ending_Longitude  \\\n",
       "0            41.8964            -87.6610          41.9322          -87.6586   \n",
       "1            41.9244            -87.7154          41.9306          -87.7238   \n",
       "2            41.8945            -87.6179          41.8679          -87.6230   \n",
       "3            41.9030            -87.6975          41.8992          -87.6722   \n",
       "4            41.8902            -87.6262          41.9695          -87.6547   \n",
       "\n",
       "  Rider_Status  \n",
       "0       member  \n",
       "1       member  \n",
       "2       member  \n",
       "3       member  \n",
       "4       casual  "
      ]
     },
     "execution_count": 11,
     "metadata": {},
     "output_type": "execute_result"
    }
   ],
   "source": [
    "df.head()"
   ]
  },
  {
   "cell_type": "markdown",
   "metadata": {},
   "source": [
    "# 3.process"
   ]
  },
  {
   "cell_type": "code",
   "execution_count": 12,
   "metadata": {},
   "outputs": [],
   "source": [
    "#convert start and end time to datetime\n",
    "from datetime import datetime\n",
    "df.Start_Time = pd.to_datetime(df.Start_Time)\n",
    "df.End_Time = pd.to_datetime(df.End_Time)"
   ]
  },
  {
   "cell_type": "code",
   "execution_count": 13,
   "metadata": {},
   "outputs": [
    {
     "data": {
      "text/plain": [
       "Bike_Type                     object\n",
       "Start_Time            datetime64[ns]\n",
       "End_Time              datetime64[ns]\n",
       "Starting_Station              object\n",
       "Ending_Station                object\n",
       "Starting_Latitude            float64\n",
       "Starting_Longitude           float64\n",
       "Ending_Latitude              float64\n",
       "Ending_Longitude             float64\n",
       "Rider_Status                  object\n",
       "dtype: object"
      ]
     },
     "execution_count": 13,
     "metadata": {},
     "output_type": "execute_result"
    }
   ],
   "source": [
    "df.dtypes"
   ]
  },
  {
   "cell_type": "markdown",
   "metadata": {},
   "source": [
    "* we can add some helper columns so we can see more insights in our data"
   ]
  },
  {
   "cell_type": "markdown",
   "metadata": {},
   "source": [
    "as we have the start_time and end_time we can get the ride duration or leght"
   ]
  },
  {
   "cell_type": "code",
   "execution_count": 14,
   "metadata": {},
   "outputs": [],
   "source": [
    "df['Ride_Length'] =  ((df['End_Time'] - df['Start_Time']).dt.days) * 24 + ((df['End_Time'] - df['Start_Time']).dt.seconds)/ 3600"
   ]
  },
  {
   "cell_type": "markdown",
   "metadata": {},
   "source": [
    "we can also get day of the week of the ride it will help us to find what days the most ride happens"
   ]
  },
  {
   "cell_type": "code",
   "execution_count": 15,
   "metadata": {},
   "outputs": [],
   "source": [
    "df['Day_of_Week'] = df['Start_Time'].dt.day_name()"
   ]
  },
  {
   "cell_type": "code",
   "execution_count": 16,
   "metadata": {},
   "outputs": [
    {
     "data": {
      "text/html": [
       "<div>\n",
       "<style scoped>\n",
       "    .dataframe tbody tr th:only-of-type {\n",
       "        vertical-align: middle;\n",
       "    }\n",
       "\n",
       "    .dataframe tbody tr th {\n",
       "        vertical-align: top;\n",
       "    }\n",
       "\n",
       "    .dataframe thead th {\n",
       "        text-align: right;\n",
       "    }\n",
       "</style>\n",
       "<table border=\"1\" class=\"dataframe\">\n",
       "  <thead>\n",
       "    <tr style=\"text-align: right;\">\n",
       "      <th></th>\n",
       "      <th>Starting_Latitude</th>\n",
       "      <th>Starting_Longitude</th>\n",
       "      <th>Ending_Latitude</th>\n",
       "      <th>Ending_Longitude</th>\n",
       "      <th>Ride_Length</th>\n",
       "    </tr>\n",
       "  </thead>\n",
       "  <tbody>\n",
       "    <tr>\n",
       "      <th>count</th>\n",
       "      <td>4.887932e+06</td>\n",
       "      <td>4.887932e+06</td>\n",
       "      <td>4.882079e+06</td>\n",
       "      <td>4.882079e+06</td>\n",
       "      <td>4.887932e+06</td>\n",
       "    </tr>\n",
       "    <tr>\n",
       "      <th>mean</th>\n",
       "      <td>4.190342e+01</td>\n",
       "      <td>-8.764460e+01</td>\n",
       "      <td>4.190372e+01</td>\n",
       "      <td>-8.764488e+01</td>\n",
       "      <td>4.117454e-01</td>\n",
       "    </tr>\n",
       "    <tr>\n",
       "      <th>std</th>\n",
       "      <td>4.380173e-02</td>\n",
       "      <td>2.597433e-02</td>\n",
       "      <td>4.390167e-02</td>\n",
       "      <td>2.612442e-02</td>\n",
       "      <td>5.923822e+00</td>\n",
       "    </tr>\n",
       "    <tr>\n",
       "      <th>min</th>\n",
       "      <td>4.164000e+01</td>\n",
       "      <td>-8.787000e+01</td>\n",
       "      <td>4.151000e+01</td>\n",
       "      <td>-8.807000e+01</td>\n",
       "      <td>-4.841661e+02</td>\n",
       "    </tr>\n",
       "    <tr>\n",
       "      <th>25%</th>\n",
       "      <td>4.188224e+01</td>\n",
       "      <td>-8.765875e+01</td>\n",
       "      <td>4.188252e+01</td>\n",
       "      <td>-8.765890e+01</td>\n",
       "      <td>1.280556e-01</td>\n",
       "    </tr>\n",
       "    <tr>\n",
       "      <th>50%</th>\n",
       "      <td>4.189993e+01</td>\n",
       "      <td>-8.764107e+01</td>\n",
       "      <td>4.190000e+01</td>\n",
       "      <td>-8.764129e+01</td>\n",
       "      <td>2.327778e-01</td>\n",
       "    </tr>\n",
       "    <tr>\n",
       "      <th>75%</th>\n",
       "      <td>4.192955e+01</td>\n",
       "      <td>-8.762769e+01</td>\n",
       "      <td>4.192957e+01</td>\n",
       "      <td>-8.762769e+01</td>\n",
       "      <td>4.275000e-01</td>\n",
       "    </tr>\n",
       "    <tr>\n",
       "      <th>max</th>\n",
       "      <td>4.208000e+01</td>\n",
       "      <td>-8.752000e+01</td>\n",
       "      <td>4.216000e+01</td>\n",
       "      <td>-8.744000e+01</td>\n",
       "      <td>9.786672e+02</td>\n",
       "    </tr>\n",
       "  </tbody>\n",
       "</table>\n",
       "</div>"
      ],
      "text/plain": [
       "       Starting_Latitude  Starting_Longitude  Ending_Latitude  \\\n",
       "count       4.887932e+06        4.887932e+06     4.882079e+06   \n",
       "mean        4.190342e+01       -8.764460e+01     4.190372e+01   \n",
       "std         4.380173e-02        2.597433e-02     4.390167e-02   \n",
       "min         4.164000e+01       -8.787000e+01     4.151000e+01   \n",
       "25%         4.188224e+01       -8.765875e+01     4.188252e+01   \n",
       "50%         4.189993e+01       -8.764107e+01     4.190000e+01   \n",
       "75%         4.192955e+01       -8.762769e+01     4.192957e+01   \n",
       "max         4.208000e+01       -8.752000e+01     4.216000e+01   \n",
       "\n",
       "       Ending_Longitude   Ride_Length  \n",
       "count      4.882079e+06  4.887932e+06  \n",
       "mean      -8.764488e+01  4.117454e-01  \n",
       "std        2.612442e-02  5.923822e+00  \n",
       "min       -8.807000e+01 -4.841661e+02  \n",
       "25%       -8.765890e+01  1.280556e-01  \n",
       "50%       -8.764129e+01  2.327778e-01  \n",
       "75%       -8.762769e+01  4.275000e-01  \n",
       "max       -8.744000e+01  9.786672e+02  "
      ]
     },
     "execution_count": 16,
     "metadata": {},
     "output_type": "execute_result"
    }
   ],
   "source": [
    "df.describe()"
   ]
  },
  {
   "cell_type": "markdown",
   "metadata": {},
   "source": [
    "#### we can see here that ride_length has negative values so let's do more cleaning \n"
   ]
  },
  {
   "cell_type": "code",
   "execution_count": 17,
   "metadata": {},
   "outputs": [
    {
     "data": {
      "text/html": [
       "<div>\n",
       "<style scoped>\n",
       "    .dataframe tbody tr th:only-of-type {\n",
       "        vertical-align: middle;\n",
       "    }\n",
       "\n",
       "    .dataframe tbody tr th {\n",
       "        vertical-align: top;\n",
       "    }\n",
       "\n",
       "    .dataframe thead th {\n",
       "        text-align: right;\n",
       "    }\n",
       "</style>\n",
       "<table border=\"1\" class=\"dataframe\">\n",
       "  <thead>\n",
       "    <tr style=\"text-align: right;\">\n",
       "      <th></th>\n",
       "      <th></th>\n",
       "      <th>Starting_Latitude</th>\n",
       "      <th>Starting_Longitude</th>\n",
       "      <th>Ending_Latitude</th>\n",
       "      <th>Ending_Longitude</th>\n",
       "      <th>Ride_Length</th>\n",
       "    </tr>\n",
       "    <tr>\n",
       "      <th>Day_of_Week</th>\n",
       "      <th>Rider_Status</th>\n",
       "      <th></th>\n",
       "      <th></th>\n",
       "      <th></th>\n",
       "      <th></th>\n",
       "      <th></th>\n",
       "    </tr>\n",
       "  </thead>\n",
       "  <tbody>\n",
       "    <tr>\n",
       "      <th rowspan=\"2\" valign=\"top\">Friday</th>\n",
       "      <th>casual</th>\n",
       "      <td>41.901938</td>\n",
       "      <td>-87.643225</td>\n",
       "      <td>41.902292</td>\n",
       "      <td>-87.643548</td>\n",
       "      <td>0.671515</td>\n",
       "    </tr>\n",
       "    <tr>\n",
       "      <th>member</th>\n",
       "      <td>41.903969</td>\n",
       "      <td>-87.646314</td>\n",
       "      <td>41.904099</td>\n",
       "      <td>-87.646541</td>\n",
       "      <td>0.252407</td>\n",
       "    </tr>\n",
       "    <tr>\n",
       "      <th rowspan=\"2\" valign=\"top\">Monday</th>\n",
       "      <th>casual</th>\n",
       "      <td>41.900166</td>\n",
       "      <td>-87.642188</td>\n",
       "      <td>41.900572</td>\n",
       "      <td>-87.642549</td>\n",
       "      <td>0.676924</td>\n",
       "    </tr>\n",
       "    <tr>\n",
       "      <th>member</th>\n",
       "      <td>41.902817</td>\n",
       "      <td>-87.645712</td>\n",
       "      <td>41.903084</td>\n",
       "      <td>-87.645899</td>\n",
       "      <td>0.246323</td>\n",
       "    </tr>\n",
       "    <tr>\n",
       "      <th rowspan=\"2\" valign=\"top\">Saturday</th>\n",
       "      <th>casual</th>\n",
       "      <td>41.903411</td>\n",
       "      <td>-87.641640</td>\n",
       "      <td>41.903863</td>\n",
       "      <td>-87.641885</td>\n",
       "      <td>0.737073</td>\n",
       "    </tr>\n",
       "    <tr>\n",
       "      <th>member</th>\n",
       "      <td>41.907821</td>\n",
       "      <td>-87.647036</td>\n",
       "      <td>41.908038</td>\n",
       "      <td>-87.647386</td>\n",
       "      <td>0.283886</td>\n",
       "    </tr>\n",
       "    <tr>\n",
       "      <th rowspan=\"2\" valign=\"top\">Sunday</th>\n",
       "      <th>casual</th>\n",
       "      <td>41.902732</td>\n",
       "      <td>-87.641145</td>\n",
       "      <td>41.903088</td>\n",
       "      <td>-87.641419</td>\n",
       "      <td>0.797145</td>\n",
       "    </tr>\n",
       "    <tr>\n",
       "      <th>member</th>\n",
       "      <td>41.907562</td>\n",
       "      <td>-87.646755</td>\n",
       "      <td>41.907690</td>\n",
       "      <td>-87.646946</td>\n",
       "      <td>0.293609</td>\n",
       "    </tr>\n",
       "    <tr>\n",
       "      <th rowspan=\"2\" valign=\"top\">Thursday</th>\n",
       "      <th>casual</th>\n",
       "      <td>41.901304</td>\n",
       "      <td>-87.643795</td>\n",
       "      <td>41.901769</td>\n",
       "      <td>-87.644203</td>\n",
       "      <td>0.655816</td>\n",
       "    </tr>\n",
       "    <tr>\n",
       "      <th>member</th>\n",
       "      <td>41.903340</td>\n",
       "      <td>-87.645935</td>\n",
       "      <td>41.903525</td>\n",
       "      <td>-87.646128</td>\n",
       "      <td>0.244080</td>\n",
       "    </tr>\n",
       "    <tr>\n",
       "      <th rowspan=\"2\" valign=\"top\">Tuesday</th>\n",
       "      <th>casual</th>\n",
       "      <td>41.900955</td>\n",
       "      <td>-87.643431</td>\n",
       "      <td>41.901437</td>\n",
       "      <td>-87.643818</td>\n",
       "      <td>0.462297</td>\n",
       "    </tr>\n",
       "    <tr>\n",
       "      <th>member</th>\n",
       "      <td>41.903011</td>\n",
       "      <td>-87.645779</td>\n",
       "      <td>41.903275</td>\n",
       "      <td>-87.646028</td>\n",
       "      <td>-0.111090</td>\n",
       "    </tr>\n",
       "    <tr>\n",
       "      <th rowspan=\"2\" valign=\"top\">Wednesday</th>\n",
       "      <th>casual</th>\n",
       "      <td>41.901218</td>\n",
       "      <td>-87.643834</td>\n",
       "      <td>41.901687</td>\n",
       "      <td>-87.644235</td>\n",
       "      <td>0.627437</td>\n",
       "    </tr>\n",
       "    <tr>\n",
       "      <th>member</th>\n",
       "      <td>41.903194</td>\n",
       "      <td>-87.645813</td>\n",
       "      <td>41.903443</td>\n",
       "      <td>-87.646027</td>\n",
       "      <td>0.244512</td>\n",
       "    </tr>\n",
       "  </tbody>\n",
       "</table>\n",
       "</div>"
      ],
      "text/plain": [
       "                          Starting_Latitude  Starting_Longitude  \\\n",
       "Day_of_Week Rider_Status                                          \n",
       "Friday      casual                41.901938          -87.643225   \n",
       "            member                41.903969          -87.646314   \n",
       "Monday      casual                41.900166          -87.642188   \n",
       "            member                41.902817          -87.645712   \n",
       "Saturday    casual                41.903411          -87.641640   \n",
       "            member                41.907821          -87.647036   \n",
       "Sunday      casual                41.902732          -87.641145   \n",
       "            member                41.907562          -87.646755   \n",
       "Thursday    casual                41.901304          -87.643795   \n",
       "            member                41.903340          -87.645935   \n",
       "Tuesday     casual                41.900955          -87.643431   \n",
       "            member                41.903011          -87.645779   \n",
       "Wednesday   casual                41.901218          -87.643834   \n",
       "            member                41.903194          -87.645813   \n",
       "\n",
       "                          Ending_Latitude  Ending_Longitude  Ride_Length  \n",
       "Day_of_Week Rider_Status                                                  \n",
       "Friday      casual              41.902292        -87.643548     0.671515  \n",
       "            member              41.904099        -87.646541     0.252407  \n",
       "Monday      casual              41.900572        -87.642549     0.676924  \n",
       "            member              41.903084        -87.645899     0.246323  \n",
       "Saturday    casual              41.903863        -87.641885     0.737073  \n",
       "            member              41.908038        -87.647386     0.283886  \n",
       "Sunday      casual              41.903088        -87.641419     0.797145  \n",
       "            member              41.907690        -87.646946     0.293609  \n",
       "Thursday    casual              41.901769        -87.644203     0.655816  \n",
       "            member              41.903525        -87.646128     0.244080  \n",
       "Tuesday     casual              41.901437        -87.643818     0.462297  \n",
       "            member              41.903275        -87.646028    -0.111090  \n",
       "Wednesday   casual              41.901687        -87.644235     0.627437  \n",
       "            member              41.903443        -87.646027     0.244512  "
      ]
     },
     "execution_count": 17,
     "metadata": {},
     "output_type": "execute_result"
    }
   ],
   "source": [
    "df.groupby(['Day_of_Week', 'Rider_Status']).mean()"
   ]
  },
  {
   "cell_type": "code",
   "execution_count": 18,
   "metadata": {},
   "outputs": [
    {
     "data": {
      "text/plain": [
       "count    4.887932e+06\n",
       "mean     4.117454e-01\n",
       "std      5.923822e+00\n",
       "min     -4.841661e+02\n",
       "25%      1.280556e-01\n",
       "50%      2.327778e-01\n",
       "75%      4.275000e-01\n",
       "max      9.786672e+02\n",
       "Name: Ride_Length, dtype: float64"
      ]
     },
     "execution_count": 18,
     "metadata": {},
     "output_type": "execute_result"
    }
   ],
   "source": [
    "df['Ride_Length'].describe()"
   ]
  },
  {
   "cell_type": "markdown",
   "metadata": {},
   "source": [
    "we see here that there is negative values also there is large standard deviation so let see how many negative values and how many rides that exceed 24 hour"
   ]
  },
  {
   "cell_type": "code",
   "execution_count": 21,
   "metadata": {},
   "outputs": [
    {
     "data": {
      "text/plain": [
       "Bike_Type             10392\n",
       "Start_Time            10392\n",
       "End_Time              10392\n",
       "Starting_Station      10342\n",
       "Ending_Station        10308\n",
       "Starting_Latitude     10392\n",
       "Starting_Longitude    10392\n",
       "Ending_Latitude       10367\n",
       "Ending_Longitude      10367\n",
       "Rider_Status          10392\n",
       "Ride_Length           10392\n",
       "Day_of_Week           10392\n",
       "dtype: int64"
      ]
     },
     "execution_count": 21,
     "metadata": {},
     "output_type": "execute_result"
    }
   ],
   "source": [
    "df[df['Ride_Length']<0].count()"
   ]
  },
  {
   "cell_type": "code",
   "execution_count": 20,
   "metadata": {},
   "outputs": [
    {
     "data": {
      "text/plain": [
       "Bike_Type             4044\n",
       "Start_Time            4044\n",
       "End_Time              4044\n",
       "Starting_Station      4044\n",
       "Ending_Station        2601\n",
       "Starting_Latitude     4044\n",
       "Starting_Longitude    4044\n",
       "Ending_Latitude       2627\n",
       "Ending_Longitude      2627\n",
       "Rider_Status          4044\n",
       "Ride_Length           4044\n",
       "Day_of_Week           4044\n",
       "dtype: int64"
      ]
     },
     "execution_count": 20,
     "metadata": {},
     "output_type": "execute_result"
    }
   ],
   "source": [
    "df[df['Ride_Length']>24].count()"
   ]
  },
  {
   "cell_type": "markdown",
   "metadata": {},
   "source": [
    "#### let's remove this values"
   ]
  },
  {
   "cell_type": "code",
   "execution_count": 22,
   "metadata": {},
   "outputs": [],
   "source": [
    "cleaned_df = df[(df['Ride_Length'] < 24) & (df['Ride_Length'] > 0)]"
   ]
  },
  {
   "cell_type": "code",
   "execution_count": 23,
   "metadata": {},
   "outputs": [
    {
     "data": {
      "text/html": [
       "<div>\n",
       "<style scoped>\n",
       "    .dataframe tbody tr th:only-of-type {\n",
       "        vertical-align: middle;\n",
       "    }\n",
       "\n",
       "    .dataframe tbody tr th {\n",
       "        vertical-align: top;\n",
       "    }\n",
       "\n",
       "    .dataframe thead th {\n",
       "        text-align: right;\n",
       "    }\n",
       "</style>\n",
       "<table border=\"1\" class=\"dataframe\">\n",
       "  <thead>\n",
       "    <tr style=\"text-align: right;\">\n",
       "      <th></th>\n",
       "      <th>Starting_Latitude</th>\n",
       "      <th>Starting_Longitude</th>\n",
       "      <th>Ending_Latitude</th>\n",
       "      <th>Ending_Longitude</th>\n",
       "      <th>Ride_Length</th>\n",
       "    </tr>\n",
       "  </thead>\n",
       "  <tbody>\n",
       "    <tr>\n",
       "      <th>count</th>\n",
       "      <td>4.872976e+06</td>\n",
       "      <td>4.872976e+06</td>\n",
       "      <td>4.868598e+06</td>\n",
       "      <td>4.868598e+06</td>\n",
       "      <td>4.872976e+06</td>\n",
       "    </tr>\n",
       "    <tr>\n",
       "      <th>mean</th>\n",
       "      <td>4.190344e+01</td>\n",
       "      <td>-8.764461e+01</td>\n",
       "      <td>4.190373e+01</td>\n",
       "      <td>-8.764488e+01</td>\n",
       "      <td>3.867132e-01</td>\n",
       "    </tr>\n",
       "    <tr>\n",
       "      <th>std</th>\n",
       "      <td>4.379158e-02</td>\n",
       "      <td>2.597266e-02</td>\n",
       "      <td>4.389857e-02</td>\n",
       "      <td>2.612479e-02</td>\n",
       "      <td>7.256141e-01</td>\n",
       "    </tr>\n",
       "    <tr>\n",
       "      <th>min</th>\n",
       "      <td>4.164000e+01</td>\n",
       "      <td>-8.787000e+01</td>\n",
       "      <td>4.151000e+01</td>\n",
       "      <td>-8.807000e+01</td>\n",
       "      <td>2.777778e-04</td>\n",
       "    </tr>\n",
       "    <tr>\n",
       "      <th>25%</th>\n",
       "      <td>4.188224e+01</td>\n",
       "      <td>-8.765875e+01</td>\n",
       "      <td>4.188255e+01</td>\n",
       "      <td>-8.765891e+01</td>\n",
       "      <td>1.283333e-01</td>\n",
       "    </tr>\n",
       "    <tr>\n",
       "      <th>50%</th>\n",
       "      <td>4.189993e+01</td>\n",
       "      <td>-8.764107e+01</td>\n",
       "      <td>4.190000e+01</td>\n",
       "      <td>-8.764129e+01</td>\n",
       "      <td>2.333333e-01</td>\n",
       "    </tr>\n",
       "    <tr>\n",
       "      <th>75%</th>\n",
       "      <td>4.192955e+01</td>\n",
       "      <td>-8.762769e+01</td>\n",
       "      <td>4.192957e+01</td>\n",
       "      <td>-8.762769e+01</td>\n",
       "      <td>4.275000e-01</td>\n",
       "    </tr>\n",
       "    <tr>\n",
       "      <th>max</th>\n",
       "      <td>4.208000e+01</td>\n",
       "      <td>-8.752000e+01</td>\n",
       "      <td>4.216000e+01</td>\n",
       "      <td>-8.744000e+01</td>\n",
       "      <td>2.399833e+01</td>\n",
       "    </tr>\n",
       "  </tbody>\n",
       "</table>\n",
       "</div>"
      ],
      "text/plain": [
       "       Starting_Latitude  Starting_Longitude  Ending_Latitude  \\\n",
       "count       4.872976e+06        4.872976e+06     4.868598e+06   \n",
       "mean        4.190344e+01       -8.764461e+01     4.190373e+01   \n",
       "std         4.379158e-02        2.597266e-02     4.389857e-02   \n",
       "min         4.164000e+01       -8.787000e+01     4.151000e+01   \n",
       "25%         4.188224e+01       -8.765875e+01     4.188255e+01   \n",
       "50%         4.189993e+01       -8.764107e+01     4.190000e+01   \n",
       "75%         4.192955e+01       -8.762769e+01     4.192957e+01   \n",
       "max         4.208000e+01       -8.752000e+01     4.216000e+01   \n",
       "\n",
       "       Ending_Longitude   Ride_Length  \n",
       "count      4.868598e+06  4.872976e+06  \n",
       "mean      -8.764488e+01  3.867132e-01  \n",
       "std        2.612479e-02  7.256141e-01  \n",
       "min       -8.807000e+01  2.777778e-04  \n",
       "25%       -8.765891e+01  1.283333e-01  \n",
       "50%       -8.764129e+01  2.333333e-01  \n",
       "75%       -8.762769e+01  4.275000e-01  \n",
       "max       -8.744000e+01  2.399833e+01  "
      ]
     },
     "execution_count": 23,
     "metadata": {},
     "output_type": "execute_result"
    }
   ],
   "source": [
    "cleaned_df.describe()"
   ]
  },
  {
   "cell_type": "markdown",
   "metadata": {},
   "source": [
    "#### let's check that there is some null values or no"
   ]
  },
  {
   "cell_type": "code",
   "execution_count": 24,
   "metadata": {},
   "outputs": [
    {
     "data": {
      "text/plain": [
       "Bike_Type                  0\n",
       "Start_Time                 0\n",
       "End_Time                   0\n",
       "Starting_Station      282014\n",
       "Ending_Station        313939\n",
       "Starting_Latitude          0\n",
       "Starting_Longitude         0\n",
       "Ending_Latitude         4378\n",
       "Ending_Longitude        4378\n",
       "Rider_Status               0\n",
       "Ride_Length                0\n",
       "Day_of_Week                0\n",
       "dtype: int64"
      ]
     },
     "execution_count": 24,
     "metadata": {},
     "output_type": "execute_result"
    }
   ],
   "source": [
    "cleaned_df.isna().sum()"
   ]
  },
  {
   "cell_type": "code",
   "execution_count": 25,
   "metadata": {},
   "outputs": [],
   "source": [
    "#removing null values\n",
    "cleaned_df = cleaned_df.dropna()"
   ]
  },
  {
   "cell_type": "code",
   "execution_count": 26,
   "metadata": {},
   "outputs": [
    {
     "data": {
      "text/plain": [
       "Bike_Type             0\n",
       "Start_Time            0\n",
       "End_Time              0\n",
       "Starting_Station      0\n",
       "Ending_Station        0\n",
       "Starting_Latitude     0\n",
       "Starting_Longitude    0\n",
       "Ending_Latitude       0\n",
       "Ending_Longitude      0\n",
       "Rider_Status          0\n",
       "Ride_Length           0\n",
       "Day_of_Week           0\n",
       "dtype: int64"
      ]
     },
     "execution_count": 26,
     "metadata": {},
     "output_type": "execute_result"
    }
   ],
   "source": [
    "cleaned_df.isna().sum()"
   ]
  },
  {
   "cell_type": "code",
   "execution_count": 27,
   "metadata": {},
   "outputs": [
    {
     "data": {
      "text/plain": [
       "(4440387, 12)"
      ]
     },
     "execution_count": 27,
     "metadata": {},
     "output_type": "execute_result"
    }
   ],
   "source": [
    "cleaned_df.shape\n"
   ]
  },
  {
   "cell_type": "markdown",
   "metadata": {},
   "source": [
    " # 4.Analyze & Share\n"
   ]
  },
  {
   "cell_type": "code",
   "execution_count": 28,
   "metadata": {},
   "outputs": [],
   "source": [
    "import matplotlib.pyplot as plt\n",
    "import seaborn as sns\n",
    "%matplotlib inline"
   ]
  },
  {
   "cell_type": "markdown",
   "metadata": {},
   "source": [
    "our goal is to find how annual members and casual riders use Cyclistic bikes differently so let's answer some question throw visualization and analyz them "
   ]
  },
  {
   "cell_type": "markdown",
   "metadata": {},
   "source": [
    "### let's see percentage betwenn casual and annual riders"
   ]
  },
  {
   "cell_type": "code",
   "execution_count": 29,
   "metadata": {},
   "outputs": [
    {
     "data": {
      "text/plain": [
       "<matplotlib.axes._subplots.AxesSubplot at 0x20981e7d610>"
      ]
     },
     "execution_count": 29,
     "metadata": {},
     "output_type": "execute_result"
    },
    {
     "data": {
      "image/png": "[encoded data removed]",
      "text/plain": [
       "<Figure size 432x288 with 1 Axes>"
      ]
     },
     "metadata": {},
     "output_type": "display_data"
    }
   ],
   "source": [
    "cleaned_df.Rider_Status.value_counts().plot(kind='pie' ,autopct='%1.1f%%' , title = \"Total Rides\")"
   ]
  },
  {
   "cell_type": "markdown",
   "metadata": {},
   "source": [
    "# we found \n",
    "* over 4 mil rides there is nearly 57 % are members and 43 are casual .\n",
    "* so we can expected them as the minority."
   ]
  },
  {
   "cell_type": "markdown",
   "metadata": {},
   "source": [
    "here we will use tabluea as it will give us a good visuals so we will save our cleaned data to a file and use it "
   ]
  },
  {
   "cell_type": "code",
   "execution_count": 31,
   "metadata": {},
   "outputs": [],
   "source": [
    "#df_clean = cleaned_df.to_csv('cleand.csv', index=False)\n",
    "os.chdir(\"C:\\\\Users\\\\moham\\\\Data-Analysis-Case-Study\") "
   ]
  },
  {
   "cell_type": "markdown",
   "metadata": {},
   "source": [
    "## what is the avareg minutes per ride?\n",
    "<img src=\"1.png\"> \n",
    "####  we found:\n",
    "Casual rides tend to be almost twice as long as member rides.\n",
    "alos Shorter rides are in the winter and longest in the summmer.\n",
    "Members are more consistant with their ride durations with average between 12-18 minutes while casuals are between 35-60 \n",
    "\n",
    "- as mentioned  in the case study that members tended to be more likely to use the vehicles for transportation to work. so it could explain the steady and lower average "
   ]
  },
  {
   "cell_type": "markdown",
   "metadata": {},
   "source": [
    "### Total Monthly Rides:\n",
    "\n",
    "<img src=\"2.png\"> \n",
    "\n",
    "####  we found:\n",
    "as we see  casual rides are greatly higher than members  in summer months.\n",
    "but when it come to winter months between November and March  members going for over twice as many rides as casuals for those months. we may see  that The weather is likely a large factor here\n",
    "so Could something be done to  increase casual interest in rides even in the colder months"
   ]
  },
  {
   "cell_type": "markdown",
   "metadata": {},
   "source": [
    "### Total Weely Rides:\n",
    "\n",
    "<img src=\"3.png\"> \n",
    "\n",
    "####  we found:\n",
    "Member rides are almost the same but slightly high  on Saturday \n",
    "but Casual rides are much higher in the weekend\n",
    "so what we should do here to influence more Casual rides during the week ?\n"
   ]
  },
  {
   "cell_type": "markdown",
   "metadata": {},
   "source": [
    "### Total hourly Rides:\n",
    "\n",
    "<img src=\"4.png\"> \n",
    "\n",
    "####  we found:\n",
    "as we can see that betwenn 6  and 8 am  and again between 4 and 6 pm are heavly rides also have a peak around launch on the other hand casual rides start more slowly at the start of the day but it is greatly increase consistently.\n",
    "we can conclude that people are more likely to use bikes for transportation to work."
   ]
  },
  {
   "cell_type": "markdown",
   "metadata": {},
   "source": [
    "### What type of bikes are they riding?\n",
    "<img src=\"5.png\"> \n",
    "#### What we found:\n",
    "\n",
    "we see that Members appear to have taken to the classic bikes more quickly then the casual riders.\n",
    "aslo by the end of  February casual riders became interested in the docked bikes again while the member riders stuck with the classic. so We'd need more information on the types of bikes to make a solid recommendation "
   ]
  },
  {
   "cell_type": "markdown",
   "metadata": {},
   "source": [
    "# Act"
   ]
  },
  {
   "cell_type": "markdown",
   "metadata": {},
   "source": [
    "## Conclusion:\n",
    "**So how do annual members and casual riders use Cyclistic bikes differently**\n",
    "-  casual rides last on average twice as long but Members are more consistent riders from day to day.  This could be done to price structure making short trips less economic for casual rides.\n",
    "\n",
    "-  casual rides start slower and increase or decrease with steady rate however Member rides spike during the normal start and off the business day\n",
    "- Casual riders prefer weekends, where members are more frequent on the weekdays especially around the start and end of work.  This is likely due to members being more likely to use the bikes for going to work, and casuals for leisure times .\n",
    "\n",
    "- Members adopted the classic bike faster then casual riders and now strongly prefer them where casual riders are showing a returned interest in docked bikes.\n"
   ]
  },
  {
   "cell_type": "markdown",
   "metadata": {},
   "source": [
    "## Suggestions\n",
    "\n",
    "* Give offers or discounts for weekends to encourage the Casual riders to buy the Subcription\n",
    "* Increase the number of Docked Bikes, since it is widely used by casual riders.\n"
   ]
  },
  {
   "cell_type": "code",
   "execution_count": null,
   "metadata": {},
   "outputs": [],
   "source": []
  }
 ],
 "metadata": {
  "kernelspec": {
   "display_name": "Python 3",
   "language": "python",
   "name": "python3"
  },
  "language_info": {
   "codemirror_mode": {
    "name": "ipython",
    "version": 3
   },
   "file_extension": ".py",
   "mimetype": "text/x-python",
   "name": "python",
   "nbconvert_exporter": "python",
   "pygments_lexer": "ipython3",
   "version": "3.8.3"
  }
 },
 "nbformat": 4,
 "nbformat_minor": 4
}
